{
 "cells": [
  {
   "cell_type": "code",
   "execution_count": 1,
   "metadata": {},
   "outputs": [],
   "source": [
    "#imports\n",
    "import numpy as np\n",
    "import pandas as pd\n",
    "from sklearn.model_selection import train_test_split\n",
    "from sklearn.neighbors import KNeighborsClassifier\n",
    "from sklearn.metrics import confusion_matrix\n",
    "from sklearn.metrics import classification_report\n",
    "from sklearn.metrics import roc_curve\n",
    "from sklearn.metrics import roc_auc_score\n",
    "from sklearn.metrics import precision_recall_curve\n",
    "from sklearn.metrics import auc\n",
    "import matplotlib.pyplot as plt\n",
    "import seaborn as sns\n",
    "%matplotlib inline"
   ]
  },
  {
   "cell_type": "code",
   "execution_count": 2,
   "metadata": {},
   "outputs": [],
   "source": [
    "#sets\n",
    "PATH = \"../Datasets/Modified/mod_UCI_Credit_Card.csv\""
   ]
  },
  {
   "cell_type": "code",
   "execution_count": 3,
   "metadata": {},
   "outputs": [],
   "source": [
    "df = pd.read_csv(PATH)"
   ]
  },
  {
   "cell_type": "code",
   "execution_count": 4,
   "metadata": {},
   "outputs": [
    {
     "data": {
      "text/html": [
       "<div>\n",
       "<style scoped>\n",
       "    .dataframe tbody tr th:only-of-type {\n",
       "        vertical-align: middle;\n",
       "    }\n",
       "\n",
       "    .dataframe tbody tr th {\n",
       "        vertical-align: top;\n",
       "    }\n",
       "\n",
       "    .dataframe thead th {\n",
       "        text-align: right;\n",
       "    }\n",
       "</style>\n",
       "<table border=\"1\" class=\"dataframe\">\n",
       "  <thead>\n",
       "    <tr style=\"text-align: right;\">\n",
       "      <th></th>\n",
       "      <th>CreditAmount</th>\n",
       "      <th>SEX</th>\n",
       "      <th>MARRIAGE</th>\n",
       "      <th>AGE</th>\n",
       "      <th>REPAYMENT_status_in_September</th>\n",
       "      <th>REPAYMENT_status_in_August</th>\n",
       "      <th>REPAYMENT_status_in_July</th>\n",
       "      <th>REPAYMENT_status_in_June</th>\n",
       "      <th>REPAYMENT_status_in_May</th>\n",
       "      <th>REPAYMENT_status_in_April</th>\n",
       "      <th>...</th>\n",
       "      <th>PAY_amount_in_September</th>\n",
       "      <th>PAY_amount_in_August</th>\n",
       "      <th>PAY_amount_in_July</th>\n",
       "      <th>PAY_amount_in_June</th>\n",
       "      <th>PAY_amount_in_May</th>\n",
       "      <th>PAY_amount_in_April</th>\n",
       "      <th>Default payment</th>\n",
       "      <th>EDUCLVL_school</th>\n",
       "      <th>EDUCLVL_university</th>\n",
       "      <th>EDUCLVL_high_school</th>\n",
       "    </tr>\n",
       "  </thead>\n",
       "  <tbody>\n",
       "    <tr>\n",
       "      <th>0</th>\n",
       "      <td>20000.0</td>\n",
       "      <td>2</td>\n",
       "      <td>1</td>\n",
       "      <td>24</td>\n",
       "      <td>2</td>\n",
       "      <td>2</td>\n",
       "      <td>-1</td>\n",
       "      <td>-1</td>\n",
       "      <td>-2</td>\n",
       "      <td>-2</td>\n",
       "      <td>...</td>\n",
       "      <td>0.0</td>\n",
       "      <td>689.0</td>\n",
       "      <td>0.0</td>\n",
       "      <td>0.0</td>\n",
       "      <td>0.0</td>\n",
       "      <td>0.0</td>\n",
       "      <td>1</td>\n",
       "      <td>0</td>\n",
       "      <td>1</td>\n",
       "      <td>0</td>\n",
       "    </tr>\n",
       "    <tr>\n",
       "      <th>1</th>\n",
       "      <td>120000.0</td>\n",
       "      <td>2</td>\n",
       "      <td>2</td>\n",
       "      <td>26</td>\n",
       "      <td>-1</td>\n",
       "      <td>2</td>\n",
       "      <td>0</td>\n",
       "      <td>0</td>\n",
       "      <td>0</td>\n",
       "      <td>2</td>\n",
       "      <td>...</td>\n",
       "      <td>0.0</td>\n",
       "      <td>1000.0</td>\n",
       "      <td>1000.0</td>\n",
       "      <td>1000.0</td>\n",
       "      <td>0.0</td>\n",
       "      <td>2000.0</td>\n",
       "      <td>1</td>\n",
       "      <td>0</td>\n",
       "      <td>1</td>\n",
       "      <td>0</td>\n",
       "    </tr>\n",
       "    <tr>\n",
       "      <th>2</th>\n",
       "      <td>90000.0</td>\n",
       "      <td>2</td>\n",
       "      <td>2</td>\n",
       "      <td>34</td>\n",
       "      <td>0</td>\n",
       "      <td>0</td>\n",
       "      <td>0</td>\n",
       "      <td>0</td>\n",
       "      <td>0</td>\n",
       "      <td>0</td>\n",
       "      <td>...</td>\n",
       "      <td>1518.0</td>\n",
       "      <td>1500.0</td>\n",
       "      <td>1000.0</td>\n",
       "      <td>1000.0</td>\n",
       "      <td>1000.0</td>\n",
       "      <td>5000.0</td>\n",
       "      <td>0</td>\n",
       "      <td>0</td>\n",
       "      <td>1</td>\n",
       "      <td>0</td>\n",
       "    </tr>\n",
       "    <tr>\n",
       "      <th>3</th>\n",
       "      <td>50000.0</td>\n",
       "      <td>2</td>\n",
       "      <td>1</td>\n",
       "      <td>37</td>\n",
       "      <td>0</td>\n",
       "      <td>0</td>\n",
       "      <td>0</td>\n",
       "      <td>0</td>\n",
       "      <td>0</td>\n",
       "      <td>0</td>\n",
       "      <td>...</td>\n",
       "      <td>2000.0</td>\n",
       "      <td>2019.0</td>\n",
       "      <td>1200.0</td>\n",
       "      <td>1100.0</td>\n",
       "      <td>1069.0</td>\n",
       "      <td>1000.0</td>\n",
       "      <td>0</td>\n",
       "      <td>0</td>\n",
       "      <td>1</td>\n",
       "      <td>0</td>\n",
       "    </tr>\n",
       "    <tr>\n",
       "      <th>4</th>\n",
       "      <td>50000.0</td>\n",
       "      <td>1</td>\n",
       "      <td>1</td>\n",
       "      <td>57</td>\n",
       "      <td>-1</td>\n",
       "      <td>0</td>\n",
       "      <td>-1</td>\n",
       "      <td>0</td>\n",
       "      <td>0</td>\n",
       "      <td>0</td>\n",
       "      <td>...</td>\n",
       "      <td>2000.0</td>\n",
       "      <td>36681.0</td>\n",
       "      <td>10000.0</td>\n",
       "      <td>9000.0</td>\n",
       "      <td>689.0</td>\n",
       "      <td>679.0</td>\n",
       "      <td>0</td>\n",
       "      <td>0</td>\n",
       "      <td>1</td>\n",
       "      <td>0</td>\n",
       "    </tr>\n",
       "  </tbody>\n",
       "</table>\n",
       "<p>5 rows × 26 columns</p>\n",
       "</div>"
      ],
      "text/plain": [
       "   CreditAmount  SEX  MARRIAGE  AGE  REPAYMENT_status_in_September  \\\n",
       "0       20000.0    2         1   24                              2   \n",
       "1      120000.0    2         2   26                             -1   \n",
       "2       90000.0    2         2   34                              0   \n",
       "3       50000.0    2         1   37                              0   \n",
       "4       50000.0    1         1   57                             -1   \n",
       "\n",
       "   REPAYMENT_status_in_August  REPAYMENT_status_in_July  \\\n",
       "0                           2                        -1   \n",
       "1                           2                         0   \n",
       "2                           0                         0   \n",
       "3                           0                         0   \n",
       "4                           0                        -1   \n",
       "\n",
       "   REPAYMENT_status_in_June  REPAYMENT_status_in_May  \\\n",
       "0                        -1                       -2   \n",
       "1                         0                        0   \n",
       "2                         0                        0   \n",
       "3                         0                        0   \n",
       "4                         0                        0   \n",
       "\n",
       "   REPAYMENT_status_in_April  ...  PAY_amount_in_September  \\\n",
       "0                         -2  ...                      0.0   \n",
       "1                          2  ...                      0.0   \n",
       "2                          0  ...                   1518.0   \n",
       "3                          0  ...                   2000.0   \n",
       "4                          0  ...                   2000.0   \n",
       "\n",
       "   PAY_amount_in_August  PAY_amount_in_July  PAY_amount_in_June  \\\n",
       "0                 689.0                 0.0                 0.0   \n",
       "1                1000.0              1000.0              1000.0   \n",
       "2                1500.0              1000.0              1000.0   \n",
       "3                2019.0              1200.0              1100.0   \n",
       "4               36681.0             10000.0              9000.0   \n",
       "\n",
       "   PAY_amount_in_May  PAY_amount_in_April  Default payment  EDUCLVL_school  \\\n",
       "0                0.0                  0.0                1               0   \n",
       "1                0.0               2000.0                1               0   \n",
       "2             1000.0               5000.0                0               0   \n",
       "3             1069.0               1000.0                0               0   \n",
       "4              689.0                679.0                0               0   \n",
       "\n",
       "   EDUCLVL_university  EDUCLVL_high_school  \n",
       "0                   1                    0  \n",
       "1                   1                    0  \n",
       "2                   1                    0  \n",
       "3                   1                    0  \n",
       "4                   1                    0  \n",
       "\n",
       "[5 rows x 26 columns]"
      ]
     },
     "execution_count": 4,
     "metadata": {},
     "output_type": "execute_result"
    }
   ],
   "source": [
    "df.head()"
   ]
  },
  {
   "cell_type": "code",
   "execution_count": 5,
   "metadata": {},
   "outputs": [],
   "source": [
    "corr = df.corr()"
   ]
  },
  {
   "cell_type": "code",
   "execution_count": 6,
   "metadata": {},
   "outputs": [],
   "source": [
    "def get_best_correlators(dataframe_corr,to_cor,n2=1,n3=0):\n",
    "    correlators_list = []\n",
    "    for k,v in dataframe_corr[to_cor].items():\n",
    "        n = str(abs(v))\n",
    "        if int(n[2])>=n2 and int(n[3])>=n3:\n",
    "            correlators_list.append(k)\n",
    "    return correlators_list"
   ]
  },
  {
   "cell_type": "code",
   "execution_count": 7,
   "metadata": {},
   "outputs": [],
   "source": [
    "features = get_best_correlators(corr,\"Default payment\")"
   ]
  },
  {
   "cell_type": "code",
   "execution_count": 8,
   "metadata": {},
   "outputs": [
    {
     "data": {
      "text/plain": [
       "26"
      ]
     },
     "execution_count": 8,
     "metadata": {},
     "output_type": "execute_result"
    }
   ],
   "source": [
    "len(corr[\"Default payment\"])"
   ]
  },
  {
   "cell_type": "code",
   "execution_count": 9,
   "metadata": {},
   "outputs": [
    {
     "data": {
      "text/plain": [
       "7"
      ]
     },
     "execution_count": 9,
     "metadata": {},
     "output_type": "execute_result"
    }
   ],
   "source": [
    "len(features)"
   ]
  },
  {
   "cell_type": "code",
   "execution_count": 10,
   "metadata": {},
   "outputs": [
    {
     "data": {
      "text/plain": [
       "Default payment                  1.000000\n",
       "REPAYMENT_status_in_September    0.327235\n",
       "REPAYMENT_status_in_August       0.264091\n",
       "REPAYMENT_status_in_July         0.234446\n",
       "REPAYMENT_status_in_June         0.214696\n",
       "REPAYMENT_status_in_May          0.204116\n",
       "REPAYMENT_status_in_April        0.187187\n",
       "EDUCLVL_high_school              0.031394\n",
       "EDUCLVL_university               0.031347\n",
       "AGE                              0.012883\n",
       "BILL_amount_in_April            -0.004716\n",
       "BILL_amount_in_May              -0.006009\n",
       "BILL_amount_in_June             -0.009421\n",
       "BILL_amount_in_July             -0.013478\n",
       "BILL_amount_in_August           -0.013505\n",
       "BILL_amount_in_September        -0.018931\n",
       "MARRIAGE                        -0.031518\n",
       "SEX                             -0.038858\n",
       "PAY_amount_in_April             -0.054335\n",
       "PAY_amount_in_May               -0.055746\n",
       "EDUCLVL_school                  -0.056231\n",
       "PAY_amount_in_July              -0.057372\n",
       "PAY_amount_in_June              -0.057543\n",
       "PAY_amount_in_August            -0.060562\n",
       "PAY_amount_in_September         -0.076871\n",
       "CreditAmount                    -0.153642\n",
       "Name: Default payment, dtype: float64"
      ]
     },
     "execution_count": 10,
     "metadata": {},
     "output_type": "execute_result"
    }
   ],
   "source": [
    "corr[\"Default payment\"].sort_values(ascending=False)"
   ]
  },
  {
   "cell_type": "code",
   "execution_count": 11,
   "metadata": {},
   "outputs": [],
   "source": [
    "#Set up X and y\n",
    "\n",
    "y = df[\"Default payment\"].values\n",
    "X = df[features]"
   ]
  },
  {
   "cell_type": "code",
   "execution_count": 12,
   "metadata": {},
   "outputs": [],
   "source": [
    "#train and test set\n",
    "#SPlitting into train and test\n",
    "X_train, X_test, y_train, y_test = train_test_split(X, y, test_size = 0.3) # 70% training and 30% test"
   ]
  },
  {
   "cell_type": "code",
   "execution_count": 22,
   "metadata": {},
   "outputs": [],
   "source": [
    "#choose the best number for x up to 20 nearest neighbors\n",
    "def pick_n():\n",
    "    train_score = []\n",
    "    test_score = []\n",
    "    k_vals = []\n",
    "\n",
    "    for k in range(1, 21):\n",
    "        k_vals.append(k)\n",
    "        knn = KNeighborsClassifier(n_neighbors = k)\n",
    "        knn.fit(X_train, y_train)\n",
    "\n",
    "        tr_score = knn.score(X_train, y_train)\n",
    "        train_score.append(tr_score)\n",
    "\n",
    "        te_score = knn.score(X_test, y_test)\n",
    "        test_score.append(te_score)\n",
    "        \n",
    "        max_test_score = max(test_score)\n",
    "        max_test_scores_ind = [i for i, v in enumerate(test_score) if v == max_test_score]\n",
    "        print('Max test score {} and k = {}'.format(max_test_score * 100, list(map(lambda x: x + 1, max_test_scores_ind))))\n",
    "        opt_K = list(map(lambda x: x + 1, max_test_scores_ind))[0]\n",
    "        \n",
    "        return opt_K\n"
   ]
  },
  {
   "cell_type": "code",
   "execution_count": 23,
   "metadata": {},
   "outputs": [
    {
     "name": "stdout",
     "output_type": "stream",
     "text": [
      "Max test score 72.33264793237377 and k = [1]\n"
     ]
    }
   ],
   "source": [
    "opt_k = pick_n()"
   ]
  },
  {
   "cell_type": "code",
   "execution_count": 24,
   "metadata": {},
   "outputs": [],
   "source": [
    "knn = KNeighborsClassifier(opt_k)\n"
   ]
  },
  {
   "cell_type": "code",
   "execution_count": 25,
   "metadata": {},
   "outputs": [
    {
     "data": {
      "text/plain": [
       "0.7233264793237377"
      ]
     },
     "execution_count": 25,
     "metadata": {},
     "output_type": "execute_result"
    }
   ],
   "source": [
    "#train/fit\n",
    "\n",
    "knn.fit(X_train, y_train)\n",
    "knn.score(X_test, y_test)"
   ]
  },
  {
   "cell_type": "code",
   "execution_count": 26,
   "metadata": {},
   "outputs": [],
   "source": [
    "#predict"
   ]
  },
  {
   "cell_type": "code",
   "execution_count": 27,
   "metadata": {},
   "outputs": [],
   "source": [
    "y_pred = knn.predict(X_test)"
   ]
  },
  {
   "cell_type": "code",
   "execution_count": 28,
   "metadata": {},
   "outputs": [
    {
     "data": {
      "text/html": [
       "<div>\n",
       "<style scoped>\n",
       "    .dataframe tbody tr th:only-of-type {\n",
       "        vertical-align: middle;\n",
       "    }\n",
       "\n",
       "    .dataframe tbody tr th {\n",
       "        vertical-align: top;\n",
       "    }\n",
       "\n",
       "    .dataframe thead th {\n",
       "        text-align: right;\n",
       "    }\n",
       "</style>\n",
       "<table border=\"1\" class=\"dataframe\">\n",
       "  <thead>\n",
       "    <tr style=\"text-align: right;\">\n",
       "      <th>Predicted</th>\n",
       "      <th>0</th>\n",
       "      <th>1</th>\n",
       "      <th>All</th>\n",
       "    </tr>\n",
       "    <tr>\n",
       "      <th>Actual</th>\n",
       "      <th></th>\n",
       "      <th></th>\n",
       "      <th></th>\n",
       "    </tr>\n",
       "  </thead>\n",
       "  <tbody>\n",
       "    <tr>\n",
       "      <th>0</th>\n",
       "      <td>5569</td>\n",
       "      <td>1286</td>\n",
       "      <td>6855</td>\n",
       "    </tr>\n",
       "    <tr>\n",
       "      <th>1</th>\n",
       "      <td>1136</td>\n",
       "      <td>763</td>\n",
       "      <td>1899</td>\n",
       "    </tr>\n",
       "    <tr>\n",
       "      <th>All</th>\n",
       "      <td>6705</td>\n",
       "      <td>2049</td>\n",
       "      <td>8754</td>\n",
       "    </tr>\n",
       "  </tbody>\n",
       "</table>\n",
       "</div>"
      ],
      "text/plain": [
       "Predicted     0     1   All\n",
       "Actual                     \n",
       "0          5569  1286  6855\n",
       "1          1136   763  1899\n",
       "All        6705  2049  8754"
      ]
     },
     "execution_count": 28,
     "metadata": {},
     "output_type": "execute_result"
    }
   ],
   "source": [
    "confusion_matrix(y_test,y_pred)\n",
    "pd.crosstab(y_test, y_pred, rownames = ['Actual'], colnames =['Predicted'], margins = True)"
   ]
  },
  {
   "cell_type": "code",
   "execution_count": 29,
   "metadata": {},
   "outputs": [
    {
     "name": "stdout",
     "output_type": "stream",
     "text": [
      "              precision    recall  f1-score   support\n",
      "\n",
      "           0       0.83      0.81      0.82      6855\n",
      "           1       0.37      0.40      0.39      1899\n",
      "\n",
      "    accuracy                           0.72      8754\n",
      "   macro avg       0.60      0.61      0.60      8754\n",
      "weighted avg       0.73      0.72      0.73      8754\n",
      "\n"
     ]
    }
   ],
   "source": [
    "#adjust/verify F1 score\n",
    "print(classification_report(y_test, y_pred))"
   ]
  },
  {
   "cell_type": "code",
   "execution_count": 30,
   "metadata": {},
   "outputs": [],
   "source": [
    "#refit on entire set"
   ]
  },
  {
   "cell_type": "code",
   "execution_count": null,
   "metadata": {},
   "outputs": [],
   "source": []
  },
  {
   "cell_type": "code",
   "execution_count": null,
   "metadata": {},
   "outputs": [],
   "source": []
  }
 ],
 "metadata": {
  "kernelspec": {
   "display_name": "becode",
   "language": "python",
   "name": "becode"
  },
  "language_info": {
   "codemirror_mode": {
    "name": "ipython",
    "version": 3
   },
   "file_extension": ".py",
   "mimetype": "text/x-python",
   "name": "python",
   "nbconvert_exporter": "python",
   "pygments_lexer": "ipython3",
   "version": "3.6.7"
  }
 },
 "nbformat": 4,
 "nbformat_minor": 4
}
