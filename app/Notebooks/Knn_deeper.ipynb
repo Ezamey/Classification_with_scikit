{
 "cells": [
  {
   "cell_type": "code",
   "execution_count": 3,
   "metadata": {},
   "outputs": [],
   "source": [
    "#imports\n",
    "import numpy as np\n",
    "import pandas as pd\n",
    "from sklearn.model_selection import train_test_split\n",
    "from sklearn.neighbors import KNeighborsClassifier\n",
    "from sklearn.metrics import confusion_matrix\n",
    "from sklearn.metrics import classification_report\n",
    "from sklearn.metrics import roc_curve\n",
    "from sklearn.metrics import roc_auc_score\n",
    "from sklearn.metrics import precision_recall_curve\n",
    "from sklearn.metrics import auc\n",
    "import matplotlib.pyplot as plt\n",
    "import seaborn as sns\n",
    "from sklearn.model_selection import GridSearchCV\n",
    "%matplotlib inline"
   ]
  },
  {
   "cell_type": "code",
   "execution_count": 4,
   "metadata": {},
   "outputs": [],
   "source": [
    "#sets\n",
    "PATH = \"../Datasets/Modified/mod_UCI_Credit_Card.csv\""
   ]
  },
  {
   "cell_type": "code",
   "execution_count": 5,
   "metadata": {},
   "outputs": [],
   "source": [
    "df = pd.read_csv(PATH)"
   ]
  },
  {
   "cell_type": "code",
   "execution_count": 6,
   "metadata": {},
   "outputs": [
    {
     "data": {
      "text/html": [
       "<div>\n",
       "<style scoped>\n",
       "    .dataframe tbody tr th:only-of-type {\n",
       "        vertical-align: middle;\n",
       "    }\n",
       "\n",
       "    .dataframe tbody tr th {\n",
       "        vertical-align: top;\n",
       "    }\n",
       "\n",
       "    .dataframe thead th {\n",
       "        text-align: right;\n",
       "    }\n",
       "</style>\n",
       "<table border=\"1\" class=\"dataframe\">\n",
       "  <thead>\n",
       "    <tr style=\"text-align: right;\">\n",
       "      <th></th>\n",
       "      <th>CreditAmount</th>\n",
       "      <th>SEX</th>\n",
       "      <th>MARRIAGE</th>\n",
       "      <th>AGE</th>\n",
       "      <th>REPAYMENT_status_in_September</th>\n",
       "      <th>REPAYMENT_status_in_August</th>\n",
       "      <th>REPAYMENT_status_in_July</th>\n",
       "      <th>REPAYMENT_status_in_June</th>\n",
       "      <th>REPAYMENT_status_in_May</th>\n",
       "      <th>REPAYMENT_status_in_April</th>\n",
       "      <th>...</th>\n",
       "      <th>PAY_amount_in_September</th>\n",
       "      <th>PAY_amount_in_August</th>\n",
       "      <th>PAY_amount_in_July</th>\n",
       "      <th>PAY_amount_in_June</th>\n",
       "      <th>PAY_amount_in_May</th>\n",
       "      <th>PAY_amount_in_April</th>\n",
       "      <th>Default payment</th>\n",
       "      <th>EDUCLVL_school</th>\n",
       "      <th>EDUCLVL_university</th>\n",
       "      <th>EDUCLVL_high_school</th>\n",
       "    </tr>\n",
       "  </thead>\n",
       "  <tbody>\n",
       "    <tr>\n",
       "      <th>0</th>\n",
       "      <td>20000.0</td>\n",
       "      <td>2</td>\n",
       "      <td>1</td>\n",
       "      <td>24</td>\n",
       "      <td>2</td>\n",
       "      <td>2</td>\n",
       "      <td>-1</td>\n",
       "      <td>-1</td>\n",
       "      <td>-2</td>\n",
       "      <td>-2</td>\n",
       "      <td>...</td>\n",
       "      <td>0.0</td>\n",
       "      <td>689.0</td>\n",
       "      <td>0.0</td>\n",
       "      <td>0.0</td>\n",
       "      <td>0.0</td>\n",
       "      <td>0.0</td>\n",
       "      <td>1</td>\n",
       "      <td>0</td>\n",
       "      <td>1</td>\n",
       "      <td>0</td>\n",
       "    </tr>\n",
       "    <tr>\n",
       "      <th>1</th>\n",
       "      <td>120000.0</td>\n",
       "      <td>2</td>\n",
       "      <td>2</td>\n",
       "      <td>26</td>\n",
       "      <td>-1</td>\n",
       "      <td>2</td>\n",
       "      <td>0</td>\n",
       "      <td>0</td>\n",
       "      <td>0</td>\n",
       "      <td>2</td>\n",
       "      <td>...</td>\n",
       "      <td>0.0</td>\n",
       "      <td>1000.0</td>\n",
       "      <td>1000.0</td>\n",
       "      <td>1000.0</td>\n",
       "      <td>0.0</td>\n",
       "      <td>2000.0</td>\n",
       "      <td>1</td>\n",
       "      <td>0</td>\n",
       "      <td>1</td>\n",
       "      <td>0</td>\n",
       "    </tr>\n",
       "    <tr>\n",
       "      <th>2</th>\n",
       "      <td>90000.0</td>\n",
       "      <td>2</td>\n",
       "      <td>2</td>\n",
       "      <td>34</td>\n",
       "      <td>0</td>\n",
       "      <td>0</td>\n",
       "      <td>0</td>\n",
       "      <td>0</td>\n",
       "      <td>0</td>\n",
       "      <td>0</td>\n",
       "      <td>...</td>\n",
       "      <td>1518.0</td>\n",
       "      <td>1500.0</td>\n",
       "      <td>1000.0</td>\n",
       "      <td>1000.0</td>\n",
       "      <td>1000.0</td>\n",
       "      <td>5000.0</td>\n",
       "      <td>0</td>\n",
       "      <td>0</td>\n",
       "      <td>1</td>\n",
       "      <td>0</td>\n",
       "    </tr>\n",
       "    <tr>\n",
       "      <th>3</th>\n",
       "      <td>50000.0</td>\n",
       "      <td>2</td>\n",
       "      <td>1</td>\n",
       "      <td>37</td>\n",
       "      <td>0</td>\n",
       "      <td>0</td>\n",
       "      <td>0</td>\n",
       "      <td>0</td>\n",
       "      <td>0</td>\n",
       "      <td>0</td>\n",
       "      <td>...</td>\n",
       "      <td>2000.0</td>\n",
       "      <td>2019.0</td>\n",
       "      <td>1200.0</td>\n",
       "      <td>1100.0</td>\n",
       "      <td>1069.0</td>\n",
       "      <td>1000.0</td>\n",
       "      <td>0</td>\n",
       "      <td>0</td>\n",
       "      <td>1</td>\n",
       "      <td>0</td>\n",
       "    </tr>\n",
       "    <tr>\n",
       "      <th>4</th>\n",
       "      <td>50000.0</td>\n",
       "      <td>1</td>\n",
       "      <td>1</td>\n",
       "      <td>57</td>\n",
       "      <td>-1</td>\n",
       "      <td>0</td>\n",
       "      <td>-1</td>\n",
       "      <td>0</td>\n",
       "      <td>0</td>\n",
       "      <td>0</td>\n",
       "      <td>...</td>\n",
       "      <td>2000.0</td>\n",
       "      <td>36681.0</td>\n",
       "      <td>10000.0</td>\n",
       "      <td>9000.0</td>\n",
       "      <td>689.0</td>\n",
       "      <td>679.0</td>\n",
       "      <td>0</td>\n",
       "      <td>0</td>\n",
       "      <td>1</td>\n",
       "      <td>0</td>\n",
       "    </tr>\n",
       "  </tbody>\n",
       "</table>\n",
       "<p>5 rows × 26 columns</p>\n",
       "</div>"
      ],
      "text/plain": [
       "   CreditAmount  SEX  MARRIAGE  AGE  REPAYMENT_status_in_September  \\\n",
       "0       20000.0    2         1   24                              2   \n",
       "1      120000.0    2         2   26                             -1   \n",
       "2       90000.0    2         2   34                              0   \n",
       "3       50000.0    2         1   37                              0   \n",
       "4       50000.0    1         1   57                             -1   \n",
       "\n",
       "   REPAYMENT_status_in_August  REPAYMENT_status_in_July  \\\n",
       "0                           2                        -1   \n",
       "1                           2                         0   \n",
       "2                           0                         0   \n",
       "3                           0                         0   \n",
       "4                           0                        -1   \n",
       "\n",
       "   REPAYMENT_status_in_June  REPAYMENT_status_in_May  \\\n",
       "0                        -1                       -2   \n",
       "1                         0                        0   \n",
       "2                         0                        0   \n",
       "3                         0                        0   \n",
       "4                         0                        0   \n",
       "\n",
       "   REPAYMENT_status_in_April  ...  PAY_amount_in_September  \\\n",
       "0                         -2  ...                      0.0   \n",
       "1                          2  ...                      0.0   \n",
       "2                          0  ...                   1518.0   \n",
       "3                          0  ...                   2000.0   \n",
       "4                          0  ...                   2000.0   \n",
       "\n",
       "   PAY_amount_in_August  PAY_amount_in_July  PAY_amount_in_June  \\\n",
       "0                 689.0                 0.0                 0.0   \n",
       "1                1000.0              1000.0              1000.0   \n",
       "2                1500.0              1000.0              1000.0   \n",
       "3                2019.0              1200.0              1100.0   \n",
       "4               36681.0             10000.0              9000.0   \n",
       "\n",
       "   PAY_amount_in_May  PAY_amount_in_April  Default payment  EDUCLVL_school  \\\n",
       "0                0.0                  0.0                1               0   \n",
       "1                0.0               2000.0                1               0   \n",
       "2             1000.0               5000.0                0               0   \n",
       "3             1069.0               1000.0                0               0   \n",
       "4              689.0                679.0                0               0   \n",
       "\n",
       "   EDUCLVL_university  EDUCLVL_high_school  \n",
       "0                   1                    0  \n",
       "1                   1                    0  \n",
       "2                   1                    0  \n",
       "3                   1                    0  \n",
       "4                   1                    0  \n",
       "\n",
       "[5 rows x 26 columns]"
      ]
     },
     "execution_count": 6,
     "metadata": {},
     "output_type": "execute_result"
    }
   ],
   "source": [
    "df.head()"
   ]
  },
  {
   "cell_type": "code",
   "execution_count": 7,
   "metadata": {},
   "outputs": [],
   "source": [
    "y = df[\"Default payment\"].values\n",
    "X = df.drop(\"Default payment\",axis=1)"
   ]
  },
  {
   "cell_type": "code",
   "execution_count": 9,
   "metadata": {},
   "outputs": [],
   "source": [
    "X_train, X_test, y_train, y_test = train_test_split(X,y, random_state=41, test_size=0.2)\n",
    "knn_classifier = KNeighborsClassifier(8)"
   ]
  },
  {
   "cell_type": "code",
   "execution_count": 10,
   "metadata": {},
   "outputs": [
    {
     "data": {
      "text/plain": [
       "\"\\n            'metric': , \\n           'metric_param:':, \\n           'n_jobs':,\\n           'n_neighbors' :,\\n           'p':, \\n           'weights':}\\n\""
      ]
     },
     "execution_count": 10,
     "metadata": {},
     "output_type": "execute_result"
    }
   ],
   "source": [
    "# Setting all the parameters we want to test\n",
    "params =  {'algorithm':[\"auto\", \"ball_tree\", \"kd_tree\", \"brute\"],\n",
    "          'n_neighbors':[1,2,3,4,5,6],\n",
    "          \"weights\":[\"uniform\", \"distance\"],\n",
    "          'leaf_size':[30,31,32]}\n",
    "\n",
    "           \n",
    "'''\n",
    "            'metric': , \n",
    "           'metric_param:':, \n",
    "           'n_jobs':,\n",
    "           'n_neighbors' :,\n",
    "           'p':, \n",
    "           'weights':}\n",
    "'''"
   ]
  },
  {
   "cell_type": "code",
   "execution_count": 11,
   "metadata": {},
   "outputs": [
    {
     "name": "stdout",
     "output_type": "stream",
     "text": [
      "Parameters:\n",
      "algorithm : ['auto', 'ball_tree', 'kd_tree', 'brute']\n",
      "n_neighbors : [1, 2, 3, 4, 5, 6]\n",
      "weights : ['uniform', 'distance']\n",
      "leaf_size : [30, 31, 32]\n",
      "\n"
     ]
    }
   ],
   "source": [
    "print(\"Parameters:\")\n",
    "for k,v in params.items():\n",
    "    print(\"{} : {}\".format(k,v))\n",
    "print()"
   ]
  },
  {
   "cell_type": "code",
   "execution_count": 12,
   "metadata": {},
   "outputs": [
    {
     "data": {
      "text/plain": [
       "dict_keys(['algorithm', 'leaf_size', 'metric', 'metric_params', 'n_jobs', 'n_neighbors', 'p', 'weights'])"
      ]
     },
     "execution_count": 12,
     "metadata": {},
     "output_type": "execute_result"
    }
   ],
   "source": [
    "knn_classifier.get_params().keys()"
   ]
  },
  {
   "cell_type": "code",
   "execution_count": 13,
   "metadata": {},
   "outputs": [
    {
     "name": "stdout",
     "output_type": "stream",
     "text": [
      "Fitting 5 folds for each of 144 candidates, totalling 720 fits\n"
     ]
    },
    {
     "name": "stderr",
     "output_type": "stream",
     "text": [
      "[Parallel(n_jobs=-1)]: Using backend LokyBackend with 8 concurrent workers.\n",
      "[Parallel(n_jobs=-1)]: Done  34 tasks      | elapsed:   11.0s\n",
      "[Parallel(n_jobs=-1)]: Done 184 tasks      | elapsed:  1.1min\n",
      "[Parallel(n_jobs=-1)]: Done 434 tasks      | elapsed:  5.9min\n",
      "[Parallel(n_jobs=-1)]: Done 720 out of 720 | elapsed: 11.2min finished\n"
     ]
    }
   ],
   "source": [
    "# Setting up the grid search that will test every combination of parameters\n",
    "gridsearch = GridSearchCV(estimator = knn_classifier,\n",
    "                        param_grid = params,\n",
    "                        scoring = 'accuracy', \n",
    "                        cv = 5, # Use 5 folds\n",
    "                        verbose = 1,\n",
    "                        n_jobs = -1 #Use all but one CPU core\n",
    "                        )\n",
    "\n",
    "# As we are doing cross-validation on the training set, the testing set X_test is untouched\n",
    "result = gridsearch.fit(X_train, y_train)"
   ]
  },
  {
   "cell_type": "code",
   "execution_count": 14,
   "metadata": {},
   "outputs": [
    {
     "name": "stdout",
     "output_type": "stream",
     "text": [
      "The best parameters are : {'algorithm': 'auto', 'leaf_size': 30, 'n_neighbors': 6, 'weights': 'uniform'}\n",
      "The best accuracy is 76.44%:\n",
      "The generalization accuracy of the model is 77.40%\n"
     ]
    }
   ],
   "source": [
    "print(\"The best parameters are :\", result.best_params_)\n",
    "print(\"The best accuracy is {:.2f}%:\".format(result.best_score_ * 100))\n",
    "\n",
    "# We can now use the testing set with the optimal hyper-parameters to get the final generalization accuracy\n",
    "decision_tree = result.best_estimator_\n",
    "score = decision_tree.score(X_test, y_test)\n",
    "print(\"The generalization accuracy of the model is {:.2f}%\".format(score * 100))"
   ]
  },
  {
   "cell_type": "code",
   "execution_count": null,
   "metadata": {},
   "outputs": [],
   "source": [
    "# We gain almost 5% accuraty (0.7233264793237377 in original knn)"
   ]
  },
  {
   "cell_type": "code",
   "execution_count": 1,
   "metadata": {},
   "outputs": [],
   "source": [
    "#reminder X and y"
   ]
  },
  {
   "cell_type": "code",
   "execution_count": 8,
   "metadata": {},
   "outputs": [],
   "source": [
    "y = df[\"Default payment\"].values\n",
    "X = df.drop(\"Default payment\",axis=1)"
   ]
  },
  {
   "cell_type": "code",
   "execution_count": 12,
   "metadata": {},
   "outputs": [],
   "source": [
    "knn_classifier = KNeighborsClassifier(6,weights=\"uniform\")"
   ]
  },
  {
   "cell_type": "code",
   "execution_count": 13,
   "metadata": {},
   "outputs": [
    {
     "name": "stdout",
     "output_type": "stream",
     "text": [
      "[0.76165182 0.76662097 0.76966581 0.77412168 0.77172237]\n",
      "Accuracy: 76.88% (+/- 0.43)\n"
     ]
    }
   ],
   "source": [
    "from sklearn.model_selection import cross_val_score\n",
    "scores = cross_val_score(knn_classifier, X, y, cv=5) # cv is the number of folds (k)\n",
    "print(scores)\n",
    "\n",
    "# It is always a good practice to show the mean AND the standard deviation of the model accuracy\n",
    "print(\"Accuracy: {:.2f}% (+/- {:.2f})\".format(scores.mean() * 100, scores.std() * 100))"
   ]
  },
  {
   "cell_type": "code",
   "execution_count": null,
   "metadata": {},
   "outputs": [],
   "source": []
  }
 ],
 "metadata": {
  "kernelspec": {
   "display_name": "becode",
   "language": "python",
   "name": "becode"
  },
  "language_info": {
   "codemirror_mode": {
    "name": "ipython",
    "version": 3
   },
   "file_extension": ".py",
   "mimetype": "text/x-python",
   "name": "python",
   "nbconvert_exporter": "python",
   "pygments_lexer": "ipython3",
   "version": "3.6.7"
  }
 },
 "nbformat": 4,
 "nbformat_minor": 4
}
